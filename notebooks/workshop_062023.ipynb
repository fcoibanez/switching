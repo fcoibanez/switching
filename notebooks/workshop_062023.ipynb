{
 "cells": [
  {
   "cell_type": "code",
   "execution_count": 1,
   "metadata": {
    "ExecuteTime": {
     "end_time": "2023-05-15T22:51:05.052098200Z",
     "start_time": "2023-05-15T22:51:02.688166Z"
    }
   },
   "outputs": [],
   "source": [
    "import numpy as np\n",
    "import pandas as pd\n",
    "import os\n",
    "from hmmlearn.hmm import GaussianHMM\n",
    "from datetime import datetime\n",
    "from tqdm.notebook import tqdm\n",
    "\n",
    "fldr = os.path.abspath(os.path.join(os.getcwd(), '..'))\n",
    "freq_str = 'W-Wed'"
   ]
  },
  {
   "cell_type": "code",
   "execution_count": 2,
   "metadata": {
    "ExecuteTime": {
     "end_time": "2023-05-15T22:51:05.723760500Z",
     "start_time": "2023-05-15T22:51:05.053364100Z"
    }
   },
   "outputs": [],
   "source": [
    "rt_ff = pd.read_pickle(f'{fldr}/data/ff.pkl')\n",
    "rt_ff = rt_ff.add(1).groupby(pd.Grouper(freq=freq_str)).prod().sub(1)\n",
    "rt_ff.drop(['rf', 'umd'], axis=1, inplace=True)\n",
    "\n",
    "rt = pd.read_pickle(f'{fldr}/data/rt_sp.pkl')\n",
    "is_tradable = pd.read_pickle(f'{fldr}/data/is_tradable_sp.pkl')\n",
    "meta = pd.read_pickle(f'{fldr}/data/meta_sp.pkl')"
   ]
  },
  {
   "cell_type": "code",
   "execution_count": 3,
   "outputs": [
    {
     "data": {
      "text/plain": "<AxesSubplot:>"
     },
     "execution_count": 3,
     "metadata": {},
     "output_type": "execute_result"
    },
    {
     "data": {
      "text/plain": "<Figure size 432x288 with 1 Axes>",
      "image/png": "[encoded data removed]"
     },
     "metadata": {
      "needs_background": "light"
     },
     "output_type": "display_data"
    }
   ],
   "source": [
    "is_tradable.sum(axis=1).plot()\n",
    "# Before 1959 there is a drop in membership, for some reason. I can start my backtest after that date?"
   ],
   "metadata": {
    "collapsed": false,
    "ExecuteTime": {
     "end_time": "2023-05-15T22:51:06.732812600Z",
     "start_time": "2023-05-15T22:51:05.723760500Z"
    }
   }
  },
  {
   "cell_type": "code",
   "execution_count": 4,
   "outputs": [
    {
     "data": {
      "text/plain": "HBox(children=(HTML(value=''), FloatProgress(value=0.0, max=10.0), HTML(value='')))",
      "application/vnd.jupyter.widget-view+json": {
       "version_major": 2,
       "version_minor": 0,
       "model_id": "d0d077e82eb84ad1832721ffe1f01c38"
      }
     },
     "metadata": {},
     "output_type": "display_data"
    },
    {
     "name": "stderr",
     "output_type": "stream",
     "text": [
      "Model is not converging.  Current: 15335.286727025914 is not greater than 15335.294018290846. Delta is -0.007291264932064223\n",
      "Model is not converging.  Current: 15498.321884182267 is not greater than 15498.328276892298. Delta is -0.006392710030922899\n"
     ]
    },
    {
     "name": "stdout",
     "output_type": "stream",
     "text": [
      "\n"
     ]
    }
   ],
   "source": [
    "rebalance_dts = pd.date_range(start=datetime(1959, 12, 31), end=datetime(2021, 12, 31), freq='BM')\n",
    "n_states = 4\n",
    "fetch_sigma = {}\n",
    "fetch_mu = {}\n",
    "fetch_fitres = {}\n",
    "fetch_smoothed = {}\n",
    "for dt in tqdm(rebalance_dts[:10]):\n",
    "    training = rt_ff.loc[:dt]\n",
    "    model = GaussianHMM(n_components=n_states, covariance_type=\"full\", n_iter=100, min_covar=1e-3, algorithm='viterbi', random_state=0, tol=.01)\n",
    "    model.fit(training.values)\n",
    "\n",
    "    # I NEED TO SORT THE STATES, SO 1 is always (for example) crisis\n",
    "\n",
    "    # print(f'Model converged: {model.monitor_.converged}')\n",
    "    s_prob = pd.DataFrame(model.predict_proba(training.values), index=training.index)\n",
    "    fetch_smoothed[dt] = model.predict_proba(training.values)\n",
    "    fetch_mu[dt] = model.means_  # Find an efficient way of labeling\n",
    "    fetch_sigma[dt] = model.covars_\n"
   ],
   "metadata": {
    "collapsed": false,
    "ExecuteTime": {
     "end_time": "2023-05-15T22:52:39.401775300Z",
     "start_time": "2023-05-15T22:52:36.729697Z"
    }
   }
  },
  {
   "cell_type": "code",
   "execution_count": 16,
   "outputs": [
    {
     "data": {
      "text/plain": "          0         1         2\n0  0.000824  0.000273  0.000560\n1  0.004327  0.000960  0.002099\n2  0.000256  0.000060  0.000089\n3  0.003821  0.001025  0.000623",
      "text/html": "<div>\n<style scoped>\n    .dataframe tbody tr th:only-of-type {\n        vertical-align: middle;\n    }\n\n    .dataframe tbody tr th {\n        vertical-align: top;\n    }\n\n    .dataframe thead th {\n        text-align: right;\n    }\n</style>\n<table border=\"1\" class=\"dataframe\">\n  <thead>\n    <tr style=\"text-align: right;\">\n      <th></th>\n      <th>0</th>\n      <th>1</th>\n      <th>2</th>\n    </tr>\n  </thead>\n  <tbody>\n    <tr>\n      <th>0</th>\n      <td>0.000824</td>\n      <td>0.000273</td>\n      <td>0.000560</td>\n    </tr>\n    <tr>\n      <th>1</th>\n      <td>0.004327</td>\n      <td>0.000960</td>\n      <td>0.002099</td>\n    </tr>\n    <tr>\n      <th>2</th>\n      <td>0.000256</td>\n      <td>0.000060</td>\n      <td>0.000089</td>\n    </tr>\n    <tr>\n      <th>3</th>\n      <td>0.003821</td>\n      <td>0.001025</td>\n      <td>0.000623</td>\n    </tr>\n  </tbody>\n</table>\n</div>"
     },
     "execution_count": 16,
     "metadata": {},
     "output_type": "execute_result"
    }
   ],
   "source": [
    "var_s = pd.concat([pd.Series(np.diag(model.covars_[x])) for x in range(n_states)], axis=1)\n",
    "var_s.T"
   ],
   "metadata": {
    "collapsed": false,
    "ExecuteTime": {
     "end_time": "2023-05-15T23:01:35.329730700Z",
     "start_time": "2023-05-15T23:01:35.259766800Z"
    }
   }
  },
  {
   "cell_type": "code",
   "execution_count": 17,
   "outputs": [
    {
     "data": {
      "text/plain": "0    0.000552\n1    0.002462\n2    0.000135\n3    0.001823\ndtype: float64"
     },
     "execution_count": 17,
     "metadata": {},
     "output_type": "execute_result"
    }
   ],
   "source": [
    "var_s.mean() # Separate in high/low, do the same with the means"
   ],
   "metadata": {
    "collapsed": false,
    "ExecuteTime": {
     "end_time": "2023-05-15T23:08:39.093044600Z",
     "start_time": "2023-05-15T23:08:39.072547300Z"
    }
   }
  },
  {
   "cell_type": "code",
   "execution_count": 19,
   "outputs": [
    {
     "data": {
      "text/plain": "array([[ 1.25294789e-03,  1.80752906e-03,  5.10415819e-04],\n       [ 1.37418619e-04,  8.61069890e-04,  2.82594622e-03],\n       [ 3.05352214e-03,  6.05883908e-05,  3.93300344e-04],\n       [-9.88891324e-03, -3.10916352e-03,  4.27562559e-03]])"
     },
     "execution_count": 19,
     "metadata": {},
     "output_type": "execute_result"
    }
   ],
   "source": [
    "model.means_"
   ],
   "metadata": {
    "collapsed": false,
    "ExecuteTime": {
     "end_time": "2023-05-15T23:09:44.101160600Z",
     "start_time": "2023-05-15T23:09:44.041863300Z"
    }
   }
  },
  {
   "cell_type": "code",
   "execution_count": 33,
   "outputs": [
    {
     "data": {
      "text/plain": "               mktrf       smb       hml\ndate                                    \n1926-07-07  0.008120 -0.008593 -0.006987\n1926-07-14  0.006764 -0.007209  0.006672\n1926-07-21 -0.007436  0.007401 -0.011482\n1926-07-28  0.011556 -0.005216 -0.005097\n1926-08-04  0.019212 -0.015712 -0.009549\n...              ...       ...       ...\n1960-08-31 -0.017417  0.014369 -0.006895\n1960-09-07 -0.019918  0.001900  0.002795\n1960-09-14 -0.006845 -0.002802  0.001797\n1960-09-21 -0.015611 -0.005987  0.005878\n1960-09-28 -0.038732 -0.005116  0.008708\n\n[1787 rows x 3 columns]",
      "text/html": "<div>\n<style scoped>\n    .dataframe tbody tr th:only-of-type {\n        vertical-align: middle;\n    }\n\n    .dataframe tbody tr th {\n        vertical-align: top;\n    }\n\n    .dataframe thead th {\n        text-align: right;\n    }\n</style>\n<table border=\"1\" class=\"dataframe\">\n  <thead>\n    <tr style=\"text-align: right;\">\n      <th></th>\n      <th>mktrf</th>\n      <th>smb</th>\n      <th>hml</th>\n    </tr>\n    <tr>\n      <th>date</th>\n      <th></th>\n      <th></th>\n      <th></th>\n    </tr>\n  </thead>\n  <tbody>\n    <tr>\n      <th>1926-07-07</th>\n      <td>0.008120</td>\n      <td>-0.008593</td>\n      <td>-0.006987</td>\n    </tr>\n    <tr>\n      <th>1926-07-14</th>\n      <td>0.006764</td>\n      <td>-0.007209</td>\n      <td>0.006672</td>\n    </tr>\n    <tr>\n      <th>1926-07-21</th>\n      <td>-0.007436</td>\n      <td>0.007401</td>\n      <td>-0.011482</td>\n    </tr>\n    <tr>\n      <th>1926-07-28</th>\n      <td>0.011556</td>\n      <td>-0.005216</td>\n      <td>-0.005097</td>\n    </tr>\n    <tr>\n      <th>1926-08-04</th>\n      <td>0.019212</td>\n      <td>-0.015712</td>\n      <td>-0.009549</td>\n    </tr>\n    <tr>\n      <th>...</th>\n      <td>...</td>\n      <td>...</td>\n      <td>...</td>\n    </tr>\n    <tr>\n      <th>1960-08-31</th>\n      <td>-0.017417</td>\n      <td>0.014369</td>\n      <td>-0.006895</td>\n    </tr>\n    <tr>\n      <th>1960-09-07</th>\n      <td>-0.019918</td>\n      <td>0.001900</td>\n      <td>0.002795</td>\n    </tr>\n    <tr>\n      <th>1960-09-14</th>\n      <td>-0.006845</td>\n      <td>-0.002802</td>\n      <td>0.001797</td>\n    </tr>\n    <tr>\n      <th>1960-09-21</th>\n      <td>-0.015611</td>\n      <td>-0.005987</td>\n      <td>0.005878</td>\n    </tr>\n    <tr>\n      <th>1960-09-28</th>\n      <td>-0.038732</td>\n      <td>-0.005116</td>\n      <td>0.008708</td>\n    </tr>\n  </tbody>\n</table>\n<p>1787 rows × 3 columns</p>\n</div>"
     },
     "execution_count": 33,
     "metadata": {},
     "output_type": "execute_result"
    }
   ],
   "source": [
    "training"
   ],
   "metadata": {
    "collapsed": false,
    "ExecuteTime": {
     "end_time": "2023-05-15T11:31:22.825930800Z",
     "start_time": "2023-05-15T11:31:22.786885300Z"
    }
   }
  },
  {
   "cell_type": "code",
   "execution_count": 36,
   "outputs": [
    {
     "data": {
      "text/plain": "                       0              1         2             3\ndate                                                           \n1926-07-07  9.691009e-56  1.176969e-139  1.000000  1.096669e-59\n1926-07-14  1.897644e-04   5.011539e-15  0.999559  2.515864e-04\n1926-07-21  4.246450e-04   1.620607e-10  0.999192  3.833770e-04\n1926-07-28  3.501352e-04   5.670049e-10  0.999349  3.013461e-04\n1926-08-04  8.876743e-04   1.440638e-09  0.996500  2.612618e-03\n...                  ...            ...       ...           ...\n1960-08-31  2.251809e-03   7.910071e-09  0.996193  1.555287e-03\n1960-09-07  2.057713e-03   4.166766e-08  0.997292  6.497761e-04\n1960-09-14  3.310525e-03   2.416253e-07  0.995910  7.794845e-04\n1960-09-21  1.180275e-02   3.119652e-06  0.971343  1.685157e-02\n1960-09-28  3.298284e-02   5.199292e-05  0.826614  1.403508e-01\n\n[1787 rows x 4 columns]",
      "text/html": "<div>\n<style scoped>\n    .dataframe tbody tr th:only-of-type {\n        vertical-align: middle;\n    }\n\n    .dataframe tbody tr th {\n        vertical-align: top;\n    }\n\n    .dataframe thead th {\n        text-align: right;\n    }\n</style>\n<table border=\"1\" class=\"dataframe\">\n  <thead>\n    <tr style=\"text-align: right;\">\n      <th></th>\n      <th>0</th>\n      <th>1</th>\n      <th>2</th>\n      <th>3</th>\n    </tr>\n    <tr>\n      <th>date</th>\n      <th></th>\n      <th></th>\n      <th></th>\n      <th></th>\n    </tr>\n  </thead>\n  <tbody>\n    <tr>\n      <th>1926-07-07</th>\n      <td>9.691009e-56</td>\n      <td>1.176969e-139</td>\n      <td>1.000000</td>\n      <td>1.096669e-59</td>\n    </tr>\n    <tr>\n      <th>1926-07-14</th>\n      <td>1.897644e-04</td>\n      <td>5.011539e-15</td>\n      <td>0.999559</td>\n      <td>2.515864e-04</td>\n    </tr>\n    <tr>\n      <th>1926-07-21</th>\n      <td>4.246450e-04</td>\n      <td>1.620607e-10</td>\n      <td>0.999192</td>\n      <td>3.833770e-04</td>\n    </tr>\n    <tr>\n      <th>1926-07-28</th>\n      <td>3.501352e-04</td>\n      <td>5.670049e-10</td>\n      <td>0.999349</td>\n      <td>3.013461e-04</td>\n    </tr>\n    <tr>\n      <th>1926-08-04</th>\n      <td>8.876743e-04</td>\n      <td>1.440638e-09</td>\n      <td>0.996500</td>\n      <td>2.612618e-03</td>\n    </tr>\n    <tr>\n      <th>...</th>\n      <td>...</td>\n      <td>...</td>\n      <td>...</td>\n      <td>...</td>\n    </tr>\n    <tr>\n      <th>1960-08-31</th>\n      <td>2.251809e-03</td>\n      <td>7.910071e-09</td>\n      <td>0.996193</td>\n      <td>1.555287e-03</td>\n    </tr>\n    <tr>\n      <th>1960-09-07</th>\n      <td>2.057713e-03</td>\n      <td>4.166766e-08</td>\n      <td>0.997292</td>\n      <td>6.497761e-04</td>\n    </tr>\n    <tr>\n      <th>1960-09-14</th>\n      <td>3.310525e-03</td>\n      <td>2.416253e-07</td>\n      <td>0.995910</td>\n      <td>7.794845e-04</td>\n    </tr>\n    <tr>\n      <th>1960-09-21</th>\n      <td>1.180275e-02</td>\n      <td>3.119652e-06</td>\n      <td>0.971343</td>\n      <td>1.685157e-02</td>\n    </tr>\n    <tr>\n      <th>1960-09-28</th>\n      <td>3.298284e-02</td>\n      <td>5.199292e-05</td>\n      <td>0.826614</td>\n      <td>1.403508e-01</td>\n    </tr>\n  </tbody>\n</table>\n<p>1787 rows × 4 columns</p>\n</div>"
     },
     "execution_count": 36,
     "metadata": {},
     "output_type": "execute_result"
    }
   ],
   "source": [],
   "metadata": {
    "collapsed": false,
    "ExecuteTime": {
     "end_time": "2023-05-15T11:32:25.245343400Z",
     "start_time": "2023-05-15T11:32:25.215173800Z"
    }
   }
  },
  {
   "cell_type": "code",
   "execution_count": 39,
   "outputs": [
    {
     "data": {
      "text/plain": "Empty DataFrame\nColumns: [factor, return]\nIndex: []",
      "text/html": "<div>\n<style scoped>\n    .dataframe tbody tr th:only-of-type {\n        vertical-align: middle;\n    }\n\n    .dataframe tbody tr th {\n        vertical-align: top;\n    }\n\n    .dataframe thead th {\n        text-align: right;\n    }\n</style>\n<table border=\"1\" class=\"dataframe\">\n  <thead>\n    <tr style=\"text-align: right;\">\n      <th></th>\n      <th>factor</th>\n      <th>return</th>\n    </tr>\n    <tr>\n      <th>date</th>\n      <th></th>\n      <th></th>\n    </tr>\n  </thead>\n  <tbody>\n  </tbody>\n</table>\n</div>"
     },
     "execution_count": 39,
     "metadata": {},
     "output_type": "execute_result"
    }
   ],
   "source": [
    "training = rt.dropna()  # Training set\n",
    "lengths = [len(training[c]) for c in training]\n",
    "training_longform = training.melt(ignore_index=False, var_name='factor', value_name='return')\n",
    "training_longform\n",
    "# training_longform = training_longform.reset_index().set_index(['factor', 'date']).loc[['mktrf', 'smb', 'hml']]\n",
    "# X = training_longform['return'].values.reshape(-1, 1)"
   ],
   "metadata": {
    "collapsed": false,
    "ExecuteTime": {
     "end_time": "2023-05-15T11:34:17.300833Z",
     "start_time": "2023-05-15T11:34:17.087769700Z"
    }
   }
  },
  {
   "cell_type": "code",
   "execution_count": 45,
   "metadata": {
    "ExecuteTime": {
     "end_time": "2023-05-15T11:37:53.266332900Z",
     "start_time": "2023-05-15T11:37:46.859018900Z"
    }
   },
   "outputs": [
    {
     "name": "stderr",
     "output_type": "stream",
     "text": [
      "Model is not converging.  Current: 43850.57220648244 is not greater than 43850.632418551046. Delta is -0.060212068608962\n"
     ]
    },
    {
     "name": "stdout",
     "output_type": "stream",
     "text": [
      "4 hidden states.\n"
     ]
    },
    {
     "data": {
      "text/plain": "<AxesSubplot:>"
     },
     "execution_count": 45,
     "metadata": {},
     "output_type": "execute_result"
    },
    {
     "data": {
      "text/plain": "<Figure size 432x288 with 1 Axes>",
      "image/png": "[encoded data removed]"
     },
     "metadata": {
      "needs_background": "light"
     },
     "output_type": "display_data"
    }
   ],
   "source": [
    "training = rt_ff.dropna()  # Training set\n",
    "# lengths = [len(training[c]) for c in training]\n",
    "# training_longform = training.melt(ignore_index=False, var_name='factor', value_name='return')\n",
    "# training_longform = training_longform.reset_index().set_index(['factor', 'date']).loc[['mktrf', 'smb', 'hml']]\n",
    "# X = training_longform['return'].values.reshape(-1, 1)\n",
    "X = training.values\n",
    "\n",
    "states_to_try = range(2, 11)\n",
    "bic = pd.Series(index=states_to_try, dtype=float)\n",
    "aic = pd.Series(index=states_to_try, dtype=float)\n",
    "for n in states_to_try:\n",
    "    mdl = GaussianHMM(n_components=n, covariance_type=\"diag\", n_iter=100, min_covar=1e-3, algorithm='viterbi', random_state=0, tol=.75)\n",
    "    # mdl.fit(X, lengths)\n",
    "    mdl.fit(X)\n",
    "    bic[n] = mdl.bic(X)\n",
    "    # bic[n] = mdl.bic(X, lengths)\n",
    "    aic[n] = mdl.aic(X)\n",
    "    # aic[n] = mdl.aic(X, lengths)\n",
    "\n",
    "n_states = bic.idxmin()\n",
    "print(f'{n_states} hidden states.')\n",
    "\n",
    "bic.plot()\n",
    "aic.plot()"
   ]
  },
  {
   "cell_type": "code",
   "execution_count": 46,
   "metadata": {
    "ExecuteTime": {
     "end_time": "2023-05-15T11:38:39.333380200Z",
     "start_time": "2023-05-15T11:38:38.661163700Z"
    }
   },
   "outputs": [
    {
     "name": "stdout",
     "output_type": "stream",
     "text": [
      "Model converged: True\n"
     ]
    }
   ],
   "source": [
    "model = GaussianHMM(n_components=n_states, covariance_type=\"full\", n_iter=100, min_covar=1e-3, algorithm='viterbi', random_state=0)\n",
    "model.fit(training.values)\n",
    "# model.fit(training.values)\n",
    "print(f'Model converged: {model.monitor_.converged}')\n",
    "\n",
    "# Find a way of sorting the states\n",
    "\n",
    "hidden_states = model.predict(training.values)\n",
    "smoothed_prob = model.predict_proba(training.values)\n",
    "mu_s = model.means_  # Find an efficient way of labeling\n",
    "sigma_s = model.covars_"
   ]
  },
  {
   "cell_type": "code",
   "execution_count": 50,
   "outputs": [
    {
     "data": {
      "text/plain": "array([2, 2, 2, ..., 0, 0, 0], dtype=int64)"
     },
     "execution_count": 50,
     "metadata": {},
     "output_type": "execute_result"
    }
   ],
   "source": [
    "hidden_states"
   ],
   "metadata": {
    "collapsed": false,
    "ExecuteTime": {
     "end_time": "2023-05-12T23:01:05.549876400Z",
     "start_time": "2023-05-12T23:01:05.530550600Z"
    }
   }
  },
  {
   "cell_type": "code",
   "execution_count": 48,
   "outputs": [
    {
     "data": {
      "text/plain": "array([[[ 6.07170590e-04,  8.29087965e-06, -1.51015375e-04],\n        [ 8.29087965e-06,  1.64853710e-04, -2.36265951e-05],\n        [-1.51015375e-04, -2.36265951e-05,  1.84724651e-04]],\n\n       [[ 7.41557034e-04,  2.05665087e-04,  3.80375006e-04],\n        [ 2.05665087e-04,  2.15424968e-04,  1.39346908e-04],\n        [ 3.80375006e-04,  1.39346908e-04,  4.04899707e-04]],\n\n       [[ 1.90828673e-04,  1.58413722e-05,  1.05203853e-05],\n        [ 1.58413722e-05,  6.51719825e-05,  5.13071897e-06],\n        [ 1.05203853e-05,  5.13071897e-06,  6.05027573e-05]],\n\n       [[ 3.61275470e-03,  1.43551776e-04,  1.00773228e-03],\n        [ 1.43551776e-04,  9.61136139e-04, -1.14910728e-04],\n        [ 1.00773228e-03, -1.14910728e-04,  1.53970370e-03]]])"
     },
     "execution_count": 48,
     "metadata": {},
     "output_type": "execute_result"
    }
   ],
   "source": [
    "sigma_s"
   ],
   "metadata": {
    "collapsed": false,
    "ExecuteTime": {
     "end_time": "2023-05-12T23:00:38.865563300Z",
     "start_time": "2023-05-12T23:00:38.841225300Z"
    }
   }
  },
  {
   "cell_type": "code",
   "execution_count": null,
   "metadata": {},
   "outputs": [],
   "source": [
    "# import matlab.engine\n",
    "# eng = matlab.engine.start_matlab()\n",
    "# # eng.cd(r'myFolder', nargout=0)\n",
    "# # eng.myFnc()\n",
    "# mdl_base = eng.varm(3.0, 1.0)\n",
    "# mdl_base_fit = eng.estimate(mdl_base, rt.values)\n",
    "# eng.summarize(mdl_base_fit)"
   ]
  },
  {
   "cell_type": "code",
   "execution_count": null,
   "metadata": {},
   "outputs": [],
   "source": []
  },
  {
   "cell_type": "code",
   "execution_count": null,
   "metadata": {},
   "outputs": [],
   "source": []
  }
 ],
 "metadata": {
  "kernelspec": {
   "display_name": "regime",
   "language": "python",
   "name": "python3"
  },
  "language_info": {
   "codemirror_mode": {
    "name": "ipython",
    "version": 3
   },
   "file_extension": ".py",
   "mimetype": "text/x-python",
   "name": "python",
   "nbconvert_exporter": "python",
   "pygments_lexer": "ipython3",
   "version": "3.9.1"
  },
  "orig_nbformat": 4
 },
 "nbformat": 4,
 "nbformat_minor": 2
}
